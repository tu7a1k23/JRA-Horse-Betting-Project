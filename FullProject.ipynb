{
  "nbformat": 4,
  "nbformat_minor": 0,
  "metadata": {
    "colab": {
      "name": "DSP305x_FullProject_SE00437x.ipynb",
      "provenance": [],
      "collapsed_sections": []
    },
    "kernelspec": {
      "name": "python3",
      "display_name": "Python 3"
    },
    "accelerator": "GPU"
  },
  "cells": [
    {
      "cell_type": "markdown",
      "metadata": {
        "id": "xEej6thpLW3N",
        "colab_type": "text"
      },
      "source": [
        "# DSP305X Project - Horse Betting"
      ]
    },
    {
      "cell_type": "markdown",
      "metadata": {
        "id": "YSFXSgmCLRtF",
        "colab_type": "text"
      },
      "source": [
        "# I. Load Data"
      ]
    },
    {
      "cell_type": "code",
      "metadata": {
        "id": "YbD9hREhG2Pz",
        "colab_type": "code",
        "colab": {
          "base_uri": "https://localhost:8080/",
          "height": 122
        },
        "outputId": "e35c1de2-6e2c-438b-e8d1-9f17b2899432"
      },
      "source": [
        "## TYPE YOUR CODE for task 2 here:\n",
        "from google.colab import drive\n",
        "drive.mount('/content/drive')"
      ],
      "execution_count": 4,
      "outputs": [
        {
          "output_type": "stream",
          "text": [
            "Go to this URL in a browser: https://accounts.google.com/o/oauth2/auth?client_id=947318989803-6bn6qk8qdgf4n4g3pfee6491hc0brc4i.apps.googleusercontent.com&redirect_uri=urn%3aietf%3awg%3aoauth%3a2.0%3aoob&scope=email%20https%3a%2f%2fwww.googleapis.com%2fauth%2fdocs.test%20https%3a%2f%2fwww.googleapis.com%2fauth%2fdrive%20https%3a%2f%2fwww.googleapis.com%2fauth%2fdrive.photos.readonly%20https%3a%2f%2fwww.googleapis.com%2fauth%2fpeopleapi.readonly&response_type=code\n",
            "\n",
            "Enter your authorization code:\n",
            "··········\n",
            "Mounted at /content/drive\n"
          ],
          "name": "stdout"
        }
      ]
    },
    {
      "cell_type": "code",
      "metadata": {
        "id": "zErFAE8aQcMM",
        "colab_type": "code",
        "colab": {}
      },
      "source": [
        "import pickle\n",
        "import pandas as pd\n",
        "import numpy as np\n",
        "import datetime as dt\n",
        "import seaborn as sns\n",
        "import matplotlib.pyplot as plt\n",
        "from sklearn.preprocessing import LabelEncoder\n",
        "from time import time\n",
        "import seaborn as sns\n",
        "import matplotlib.pyplot as plt\n",
        "from sklearn.model_selection import train_test_split\n",
        "from imblearn.over_sampling import SMOTE\n",
        "import lightgbm as lgb\n",
        "from sklearn.metrics import precision_score, classification_report, confusion_matrix\n",
        "RA = pd.read_pickle('/content/drive/My Drive/Colab Notebooks/DSP305x/RA.pickle').reset_index(drop=True)#Race details\n",
        "SE = pd.read_pickle('/content/drive/My Drive/Colab Notebooks/DSP305x/SE.pickle').reset_index(drop=True)#Horse race information\n",
        "UM_all = pd.read_pickle('/content/drive/My Drive/Colab Notebooks/DSP305x/UM_all.pickle').reset_index(drop=True)#thông tin con ngựa\n",
        "WE = pd.read_pickle('/content/drive/My Drive/Colab Notebooks/DSP305x/WE.pickle').reset_index(drop=True)#weather\n",
        "BN = pd.read_pickle('/content/drive/My Drive/Colab Notebooks/DSP305x/BN.pickle').reset_index(drop=True)#BANUSI, người sở hữu\n",
        "BR = pd.read_pickle('/content/drive/My Drive/Colab Notebooks/DSP305x/BR.pickle').reset_index(drop=True)#BREEDER, nơi huấn luyện\n",
        "CH = pd.read_pickle('/content/drive/My Drive/Colab Notebooks/DSP305x/CH.pickle').reset_index(drop=True)#CHOKYO, trainer\n",
        "HN_all = pd.read_pickle('/content/drive/My Drive/Colab Notebooks/DSP305x/HN_all.pickle').reset_index(drop=True)#HANSYOKU, giống ngựa\n",
        "KS = pd.read_pickle('/content/drive/My Drive/Colab Notebooks/DSP305x/KS.pickle').reset_index(drop=True)#KISYU, người cưỡi ngựa"
      ],
      "execution_count": 150,
      "outputs": []
    },
    {
      "cell_type": "markdown",
      "metadata": {
        "id": "KMKyuayc37Tw",
        "colab_type": "text"
      },
      "source": [
        "# II. Data Preprocessing"
      ]
    },
    {
      "cell_type": "markdown",
      "metadata": {
        "id": "5yzLEbFmLs2D",
        "colab_type": "text"
      },
      "source": [
        "1. Duplicated value handling."
      ]
    },
    {
      "cell_type": "code",
      "metadata": {
        "id": "ccGNAgN6N7bA",
        "colab_type": "code",
        "colab": {}
      },
      "source": [
        "# unique values( delete duplicates, lay latest one), _merge increasing large of rows\n",
        "# RA.isnull().any()#35925 \n",
        "# RA_duplicate = RA[RA.duplicated(subset=['id$Year', 'id$JyoCD', 'id$Kaiji', 'id$Nichiji','id$RaceNum'], keep=False)]#no duplicates found\n",
        "# SE.isnull().any()\n",
        "# SE_duplicate = SE[SE.duplicated(subset=['id$JyoCD','id$Year', 'id$Kaiji', 'id$Nichiji','id$RaceNum', 'KettoNum'], keep=False)]#34, keep False means show all\n",
        "SE = SE.drop_duplicates(subset=['id$JyoCD','id$Year', 'id$Kaiji', 'id$Nichiji','id$RaceNum', 'KettoNum'],keep='first').reset_index(drop=True)#original:1742, unique: 1384\n",
        "# UM_all.isnull().any()\n",
        "# UM_duplicate = UM_all[UM_all.duplicated(subset=['KettoNum','ChokyosiCode'], keep=False)]#, keep False means show all\n",
        "UM_all = UM_all.drop_duplicates(subset=['KettoNum','ChokyosiCode'],keep='first').reset_index(drop=True)#original:, unique: , da giai quyet van de thoi gian\n",
        "# CH.isnull().any()\n",
        "CH= CH.drop_duplicates(subset='ChokyosiCode',keep='first').reset_index(drop=True)#original:5142, unique: 1353\n",
        "# KS.isnull().any()\n",
        "KS = KS.drop_duplicates(subset='KisyuCode',keep='first').reset_index(drop=True)#original:1742, unique: 1384"
      ],
      "execution_count": 151,
      "outputs": []
    },
    {
      "cell_type": "markdown",
      "metadata": {
        "id": "SmwGMffoL1ek",
        "colab_type": "text"
      },
      "source": [
        "2. Outlier Handling."
      ]
    },
    {
      "cell_type": "code",
      "metadata": {
        "id": "CH6mw_18hjti",
        "colab_type": "code",
        "colab": {
          "base_uri": "https://localhost:8080/",
          "height": 187
        },
        "outputId": "d591740c-0636-4cab-c4e5-e3b53f1d7a79"
      },
      "source": [
        "#xử lý outlier Futan( 4), BaTaijyu( 0,999), odds( 9999)\n",
        "# Futan: already handled from duplicated value handling.\n",
        "SE['BaTaijyu'] = pd.to_numeric(SE['BaTaijyu'])\n",
        "SE.BaTaijyu[(SE.BaTaijyu == 999) | (SE.BaTaijyu == 0)] = SE.BaTaijyu.mean()\n",
        "SE.Odds[SE.Odds == 9999] = SE.Odds.mean()"
      ],
      "execution_count": 152,
      "outputs": [
        {
          "output_type": "stream",
          "text": [
            "/usr/local/lib/python3.6/dist-packages/ipykernel_launcher.py:4: SettingWithCopyWarning: \n",
            "A value is trying to be set on a copy of a slice from a DataFrame\n",
            "\n",
            "See the caveats in the documentation: https://pandas.pydata.org/pandas-docs/stable/user_guide/indexing.html#returning-a-view-versus-a-copy\n",
            "  after removing the cwd from sys.path.\n",
            "/usr/local/lib/python3.6/dist-packages/ipykernel_launcher.py:5: SettingWithCopyWarning: \n",
            "A value is trying to be set on a copy of a slice from a DataFrame\n",
            "\n",
            "See the caveats in the documentation: https://pandas.pydata.org/pandas-docs/stable/user_guide/indexing.html#returning-a-view-versus-a-copy\n",
            "  \"\"\"\n"
          ],
          "name": "stderr"
        }
      ]
    },
    {
      "cell_type": "markdown",
      "metadata": {
        "id": "MbUUe8FWMS5x",
        "colab_type": "text"
      },
      "source": [
        "3. Feature selection and merging."
      ]
    },
    {
      "cell_type": "code",
      "metadata": {
        "id": "0rd4KYWLG2Ks",
        "colab_type": "code",
        "colab": {}
      },
      "source": [
        "def get_data_from_feature_sel_merg(RA, SE, UM_all, CH, KS, with_new_features):\n",
        "  #join: Year, JyoCD, Kaiji, Nichiji, RaceNum\n",
        "  #TokuNum( cuộc thi đặc biệt không)\n",
        "  #tra kq: year month day, Kaiji( giải đua), JyoCD( trường đua), TokuNum( co phai cuoc dua dac biet hay khong), KigoCD( race code, cua dua toan ngua duc cai thien), TenkoCD( code weather), SyubetuCD( race nay cho ngua bn tuoi), JyuryoCD( cach tinh weight ngua trong cd), TrackCD( loai san), SibaBabaCD( tinh trang san co), DirtBabaCD( tt san dat), Kyori( khoảng cách cuộc đua)\n",
        "  RA_data = RA[['id$Year', 'id$JyoCD', 'id$Kaiji', 'id$Nichiji','id$RaceNum','TenkoBaba$TenkoCD', 'JyokenInfo$SyubetuCD', 'JyokenInfo$KigoCD'\n",
        "                , 'Kyori', 'TrackCD','TenkoBaba$SibaBabaCD', 'TenkoBaba$DirtBabaCD','GradeCD', 'RaceInfo$Nkai']]\n",
        "  #KakuteiJyuni( kết quả), ninki( trình tự yêu thích), Umaban( số của con ngựa, số vào làn trong trận), Barei( tuổi ngựa), Futan( khổi lượng đảm nhiệm đai + người cưỡi), Blinker( nịt che mắt của ngựa), BaTaijyu( khối lượng ngựa), ZogenFugo( ký hiệu tăng giảm khổi lượng), Odds( win odd), Ninki( trình tự yêu thích theo người dùng, !trước vàu sau), Futan( khoi luong dam nhiem dai + nguoi cuoi)\n",
        "  #Bamei( tên ngựa), id$Year Month Day( thời gian tổ chức), Kaiji( 1 năm tổ chức bao lần), Nichiji( ngày tổ chức thứ N), id$RaceNum, ..ChokyosiRyakusyo( viết tắt tên hlv), BanusiName( chủ ngựa), NyusenJyuni( ?trình tự vào làn TH ko đủ tiêu chuẩn, giống KakuteiJyuni)\n",
        "  #Có thể chuyển thành categorical value #định lượng: TenkoCD( code weather cua race), JyoCD( code trường đua), UmaKigoCD( code loại ngựa), SexCD( code giới tính), ChokyosiCode( code hlv trainer master), KisyuCode( code jockey), IJyoCD( code phân loại bất thường), \n",
        "  #điều chỉnh: Ninki( bỏ),KeiroCD( tóc ngựa, cũng thể hiện được giống ngựa ví như người da đen hay người da vàng thì người da đen thường trâu hơn)\n",
        "  #join: Year, JyoCD, Kaiji, Nichiji, RaceNum, KettoNum\n",
        "  SE_data = SE[['Umaban','id$JyoCD','id$Year', 'id$Kaiji', 'id$Nichiji','id$RaceNum', 'KettoNum','ChokyosiCode', 'SexCD', 'Barei', 'KakuteiJyuni','Futan' ,\n",
        "              'Blinker','BaTaijyu','Odds','KeiroCD',\n",
        "              'UmaKigoCD', 'KisyuCode']]\n",
        "  #join( nen la code/id): KettoNum, ChokyosiCode( 1 ngua co the co 2 trainer khac nhau)\n",
        "  #HansyokuMochiKubun( ngựa trong nước hay nhập khẩu), SanchiName( gốc), HinsyuCD( product code về giống thuần chủng or not), ?ChokyosiCode( code trainer), ?BreederCode( nguoi nuoi), ?BanusiCode( nguoi chu) ,RaceCount( Number of races registered in JRA-VAN)\n",
        "  #datakubun( thông tin update), \n",
        "  UM_data = UM_all[['KettoNum','ChokyosiCode' , 'SanchiName', 'HinsyuCD']]#thông tin con ngựa\n",
        "  #join: ChokyosiCode\n",
        "  #ChokyosiCode( code trainer), SexCD, TozaiCD( code xuất thân)\n",
        "  CH_data = CH[['ChokyosiCode','SexCD', 'TozaiCD']]#trainer\n",
        "\n",
        "  #join: KisyuCode( UM-KS)\n",
        "  #SikakuCD( khả năng chạy đường đất phẳng chướng ngại vật), TozaiCD( code xuất thân), MinaraiCD( thành tích),\n",
        "  #632 columns\n",
        "  KS_data = KS[['KisyuCode','SikakuCD', 'TozaiCD', 'MinaraiCD']]#jockey\n",
        "  #for improvement\n",
        "  if with_new_features:  \n",
        "    #replace the old one\n",
        "    RA_data = RA[['id$MonthDay','id$Year', 'id$JyoCD', 'id$Kaiji', 'id$Nichiji','id$RaceNum','TenkoBaba$TenkoCD', 'JyokenInfo$SyubetuCD', 'JyokenInfo$KigoCD'\n",
        "                , 'Kyori', 'TrackCD','TenkoBaba$SibaBabaCD', 'TenkoBaba$DirtBabaCD','GradeCD', 'RaceInfo$Nkai']]\n",
        "   \n",
        "  RA_SE = pd.merge(RA_data, SE_data, on=['id$Year', 'id$JyoCD','id$Kaiji', 'id$Nichiji','id$RaceNum'], how='inner')#'id$DayMonth','id$DayMonthYear','DayMonthYear','YearMonthDay',\n",
        "  RA_SE_UM = pd.merge(RA_SE, UM_data, on=['KettoNum','ChokyosiCode'], how='inner')#UM_data[UM_data.KettoNum==2015102976]\n",
        "  RA_SE_UM_CH = pd.merge(RA_SE_UM, CH_data, on=['ChokyosiCode'], how='inner')\n",
        "  RA_SE_UM_CH_KS = pd.merge(RA_SE_UM_CH, KS_data, on=['KisyuCode'], how='inner')\n",
        "  return RA_SE_UM_CH_KS\n",
        "data = get_data_from_feature_sel_merg(RA, SE, UM_all, CH, KS, False)"
      ],
      "execution_count": 215,
      "outputs": []
    },
    {
      "cell_type": "markdown",
      "metadata": {
        "id": "JsMV0-A8Nia5",
        "colab_type": "text"
      },
      "source": [
        "4. Data transformation and preparation for training."
      ]
    },
    {
      "cell_type": "code",
      "metadata": {
        "id": "FLTG68c12nH5",
        "colab_type": "code",
        "colab": {
          "base_uri": "https://localhost:8080/",
          "height": 102
        },
        "outputId": "d89ffd0f-2d93-4c99-dec3-14274485ee0f"
      },
      "source": [
        "def get_transformation_and_splitting_dropping( data, is_training, with_new_features):\n",
        "  #transform/ impute data \n",
        "  def result_impute(cols):\n",
        "      if cols in [1,2,3]:\n",
        "          return 1\n",
        "      else: \n",
        "          return 0\n",
        "  data.KakuteiJyuni = data.KakuteiJyuni.apply(result_impute)\n",
        "  #one-hot encoding: TenkoBaba$TenkoCD, JyokenInfo$KigoCD, JyokenInfo$JyuryoCD, TrackCD, TenkoBaba$SibaBabaCD, TenkoBaba$DirtBabaCD, SexCD_x, Blinker, UmaKigoCD, BreederCode, SanchiName, HinsyuCD, Address, SexCD_y, TozaiCD_x, SikakuCD, TozaiCD_y, MinaraiCD\n",
        "  # data = pd.get_dummies(data=data, columns=['TenkoBaba$TenkoCD', 'JyokenInfo$KigoCD', 'TrackCD', 'TenkoBaba$SibaBabaCD', 'TenkoBaba$DirtBabaCD', 'SexCD_x', 'Blinker', 'UmaKigoCD', 'BreederCode', 'SanchiName', 'HinsyuCD', 'Address', 'SexCD_y', 'TozaiCD_x', 'SikakuCD', 'TozaiCD_y', 'MinaraiCD'])\n",
        "  le = LabelEncoder()\n",
        "  for col in ['GradeCD','JyokenInfo$KigoCD','JyokenInfo$SyubetuCD','KeiroCD','TenkoBaba$TenkoCD', 'TrackCD', 'TenkoBaba$SibaBabaCD','TenkoBaba$DirtBabaCD', 'SexCD_x', 'Blinker', 'UmaKigoCD', 'SanchiName', 'HinsyuCD', 'SexCD_y', 'TozaiCD_x', 'SikakuCD', 'TozaiCD_y', 'MinaraiCD']:\n",
        "    data[col] = le.fit_transform(data[col])#convert to numeric type( category for old ones)\n",
        "  # parse to numeric data\n",
        "  is_baTaijyu_numeric =  data['BaTaijyu'][10].isnumeric()\n",
        "  if is_baTaijyu_numeric: #random check\n",
        "    data['BaTaijyu'] = pd.to_numeric(data['BaTaijyu'])\n",
        "  else:\n",
        "    data = data.drop(columns=['BaTaijyu'], inplace=False)#BaTaijyu contains '     '\n",
        "  train_data = []\n",
        "  test_data = []\n",
        "  #data split\n",
        "  if is_training:\n",
        "      #training data\n",
        "    train_data = data[data['id$Year'] != 2018]  \n",
        "      #test\n",
        "    test_data = data[data['id$Year'] == 2018]\n",
        "    #drop unnecessary columns\n",
        "    #id$Year, id$JyoCD, id$Kaiji, id$Nichiji, id$RaceNum, KettoNum, ChokyosiCode, KisyuCode\n",
        "    train_data = train_data.drop(columns=['Umaban','id$Year', 'id$JyoCD', 'id$Kaiji', 'id$Nichiji', 'id$RaceNum', 'KettoNum', 'ChokyosiCode', 'KisyuCode'], inplace=False)\n",
        "    test_data = test_data.drop(columns=['Umaban','id$Year', 'id$JyoCD', 'id$Kaiji', 'id$Nichiji', 'id$RaceNum','KettoNum', 'ChokyosiCode', 'KisyuCode'], inplace=False)\n",
        "    #__for improvement\n",
        "    if with_new_features:\n",
        "      #drop more date\n",
        "      train_data = train_data.drop(columns=['id$DayMonth','id$MonthDay','id$DayMonthYear','DayMonthYear','YearMonthDay'], inplace=False)\n",
        "      test_data = test_data.drop(columns=['id$DayMonth','id$MonthDay','id$DayMonthYear','DayMonthYear','YearMonthDay'], inplace=False)\n",
        "  else: #for prediction\n",
        "    data = data.drop(columns=['Umaban','id$Year', 'id$JyoCD', 'id$Kaiji', 'id$Nichiji', 'id$RaceNum', 'KettoNum', 'ChokyosiCode', 'KisyuCode'], inplace=False)\n",
        "    if with_new_features:\n",
        "      #drop more date\n",
        "      data = data.drop(columns=['id$DayMonth','id$MonthDay','id$DayMonthYear','DayMonthYear','YearMonthDay'], inplace=False)\n",
        "  return train_data, test_data, data\n",
        "train_data, test_data, data = get_transformation_and_splitting_dropping( data, True, False)"
      ],
      "execution_count": 209,
      "outputs": [
        {
          "output_type": "stream",
          "text": [
            "/usr/local/lib/python3.6/dist-packages/pandas/core/frame.py:3997: SettingWithCopyWarning: \n",
            "A value is trying to be set on a copy of a slice from a DataFrame\n",
            "\n",
            "See the caveats in the documentation: https://pandas.pydata.org/pandas-docs/stable/user_guide/indexing.html#returning-a-view-versus-a-copy\n",
            "  errors=errors,\n"
          ],
          "name": "stderr"
        }
      ]
    },
    {
      "cell_type": "code",
      "metadata": {
        "id": "YDzxuGsvOKSr",
        "colab_type": "code",
        "colab": {
          "base_uri": "https://localhost:8080/",
          "height": 346
        },
        "outputId": "fc8fa05d-3608-4954-8791-b91d2ca2fe09"
      },
      "source": [
        "#training model before deployment\n",
        "def get_training_data_before_deployment( train_data, test_data):\n",
        "  X_train = train_data.drop(columns='KakuteiJyuni')\n",
        "  X_test = test_data.drop(columns='KakuteiJyuni')\n",
        "\n",
        "  y_train = train_data['KakuteiJyuni']\n",
        "  y_test = test_data['KakuteiJyuni']\n",
        "  return X_train, X_test, y_train, y_test\n",
        "X_train, X_test, y_train, y_test = get_training_data_before_deployment(train_data, test_data)\n",
        "plt.figure(figsize=(6,4))\n",
        "sns.countplot(y_train)\n",
        "plt.title('Number of Labels by Class')\n",
        "y_train.value_counts()"
      ],
      "execution_count": 155,
      "outputs": [
        {
          "output_type": "execute_result",
          "data": {
            "text/plain": [
              "0    156577\n",
              "1     40300\n",
              "Name: KakuteiJyuni, dtype: int64"
            ]
          },
          "metadata": {
            "tags": []
          },
          "execution_count": 155
        },
        {
          "output_type": "display_data",
          "data": {
            "image/png": "[encoded data removed]",
            "text/plain": [
              "<Figure size 432x288 with 1 Axes>"
            ]
          },
          "metadata": {
            "tags": [],
            "needs_background": "light"
          }
        }
      ]
    },
    {
      "cell_type": "markdown",
      "metadata": {
        "id": "AvJguVNb4VAD",
        "colab_type": "text"
      },
      "source": [
        "# III. Model training"
      ]
    },
    {
      "cell_type": "markdown",
      "metadata": {
        "id": "tf6bQ4kCPl-D",
        "colab_type": "text"
      },
      "source": [
        "Ở đây ta vừa training cũng như vừa đánh giá model dựa trên các metrics như precision, recall, f1-score và confusion matrix."
      ]
    },
    {
      "cell_type": "code",
      "metadata": {
        "id": "xXpjaisStTSn",
        "colab_type": "code",
        "colab": {
          "base_uri": "https://localhost:8080/",
          "height": 34
        },
        "outputId": "884da59f-6663-459e-e2b2-624a913651aa"
      },
      "source": [
        "#training with original data\n",
        "start = time()\n",
        "d_train = lgb.Dataset(X_train, label = y_train)\n",
        "params = {}\n",
        "params['learning_rate'] = 0.003\n",
        "params['boosting_type'] = 'gbdt'\n",
        "params['objective'] = 'binary'\n",
        "params['metric'] = 'binary_logloss'\n",
        "params['num_leaves'] = 100\n",
        "params['min_data'] = 500\n",
        "params['max_depth'] = 100\n",
        "clf = lgb.train(params, d_train, 100)\n",
        "end = time()\n",
        "running_time = end - start\n",
        "print('time cost: %.5f sec' %running_time)"
      ],
      "execution_count": 57,
      "outputs": [
        {
          "output_type": "stream",
          "text": [
            "time cost: 4.45738 sec\n"
          ],
          "name": "stdout"
        }
      ]
    },
    {
      "cell_type": "code",
      "metadata": {
        "id": "iNUzQzUQIAUq",
        "colab_type": "code",
        "colab": {
          "base_uri": "https://localhost:8080/",
          "height": 34
        },
        "outputId": "ee5db4a9-895c-4b2a-b795-0ce79d41ab93"
      },
      "source": [
        "#threshold\n",
        "# y_pred_test = clf_sm.predict(X_test)\n",
        "# np.count_nonzero(y_pred_test >= 0.5145)\n",
        "# y_test.value_counts()"
      ],
      "execution_count": 182,
      "outputs": [
        {
          "output_type": "execute_result",
          "data": {
            "text/plain": [
              "755"
            ]
          },
          "metadata": {
            "tags": []
          },
          "execution_count": 182
        }
      ]
    },
    {
      "cell_type": "code",
      "metadata": {
        "id": "yqt6EISrxvho",
        "colab_type": "code",
        "colab": {}
      },
      "source": [
        "def get_binary_output(model,X_test, is_original_data):\n",
        "  #Prediction\n",
        "  y_pred = model.predict(X_test)\n",
        "  #convert into binary values\n",
        "  if is_original_data:\n",
        "    for i in range(len(y_pred)):\n",
        "        if y_pred[i] >= 0.25:       # setting threshold: got 63603 actual 63370 - 0.5347, 0.5261( con odds), 0.5115( bo odds)\n",
        "            y_pred[i] = 1\n",
        "        else:  \n",
        "            y_pred[i] = 0\n",
        "  if not is_original_data:#over-sampling\n",
        "    for i in range(len(y_pred)):\n",
        "        if y_pred[i] >= 0.5145:       # setting threshold: got 63603 actual 63370 - 0.5347, 0.5261( con odds), 0.5115( bo odds)\n",
        "            y_pred[i] = 1\n",
        "        else:  \n",
        "            y_pred[i] = 0\n",
        "  return y_pred\n",
        "y_pred = get_binary_output(clf, X_test, True)"
      ],
      "execution_count": null,
      "outputs": []
    },
    {
      "cell_type": "code",
      "metadata": {
        "id": "FJL9XOdW8qTf",
        "colab_type": "code",
        "colab": {
          "base_uri": "https://localhost:8080/",
          "height": 771
        },
        "outputId": "14f99bb2-8328-44de-d17e-47ba9e00a0f2"
      },
      "source": [
        "#evaluation\n",
        "print(classification_report(y_test, y_pred))\n",
        "#cm, plot\n",
        "labels = ['lose', 'win']\n",
        "cm = confusion_matrix(y_test, y_pred)\n",
        "print(cm)\n",
        "fig = plt.figure()\n",
        "ax = fig.add_subplot(111)\n",
        "cax = ax.matshow(cm)\n",
        "plt.title('Confusion matrix')\n",
        "fig.colorbar(cax)\n",
        "ax.set_xticklabels([''] + labels)\n",
        "ax.set_yticklabels([''] + labels)\n",
        "plt.xlabel('Predicted')\n",
        "plt.ylabel('True')\n",
        "# plot model’s feature importances (original data)\n",
        "lgb.plot_importance(clf, max_num_features=10)"
      ],
      "execution_count": 78,
      "outputs": [
        {
          "output_type": "stream",
          "text": [
            "              precision    recall  f1-score   support\n",
            "\n",
            "           0       0.87      0.87      0.87      2763\n",
            "           1       0.52      0.51      0.51       749\n",
            "\n",
            "    accuracy                           0.79      3512\n",
            "   macro avg       0.69      0.69      0.69      3512\n",
            "weighted avg       0.79      0.79      0.79      3512\n",
            "\n",
            "[[2406  357]\n",
            " [ 366  383]]\n"
          ],
          "name": "stdout"
        },
        {
          "output_type": "execute_result",
          "data": {
            "text/plain": [
              "<matplotlib.axes._subplots.AxesSubplot at 0x7fd4bff792e8>"
            ]
          },
          "metadata": {
            "tags": []
          },
          "execution_count": 78
        },
        {
          "output_type": "display_data",
          "data": {
            "image/png": "[encoded data removed]",
            "text/plain": [
              "<Figure size 432x288 with 2 Axes>"
            ]
          },
          "metadata": {
            "tags": [],
            "needs_background": "light"
          }
        },
        {
          "output_type": "display_data",
          "data": {
            "image/png": "[encoded data removed]",
            "text/plain": [
              "<Figure size 432x288 with 1 Axes>"
            ]
          },
          "metadata": {
            "tags": [],
            "needs_background": "light"
          }
        }
      ]
    },
    {
      "cell_type": "markdown",
      "metadata": {
        "id": "5Gn851hA4YMb",
        "colab_type": "text"
      },
      "source": [
        "# IV. Model Improvement"
      ]
    },
    {
      "cell_type": "code",
      "metadata": {
        "id": "Zf0qzxTiqfWY",
        "colab_type": "code",
        "colab": {
          "base_uri": "https://localhost:8080/",
          "height": 238
        },
        "outputId": "ced38094-0db3-4263-82b2-f9121858b50e"
      },
      "source": [
        "#new features\n",
        "def add_new_date_for_new_features(data):\n",
        "  data['id$DayMonth'] = 0#reset\n",
        "  data['id$DayMonthYear'] = 0#reset\n",
        "  def convert_day_month(MonthDay):\n",
        "      str_MonthDay = str(MonthDay)\n",
        "      #TH 1: month(check 2 số đầu, nếu > 12 lấy số index 0, <12 lấy substring index 0&1), Day là phần còn lại -> gán lại cho id$MonthDay\n",
        "      #TH 2 : khong lay thang 12, 120( 20-1), 110( 10-1)\n",
        "      if int(str_MonthDay[:2])>12 or (int(str_MonthDay[:2])in [10,11,12] and len(str_MonthDay)==3):\n",
        "        month_as_string = str_MonthDay[:1]\n",
        "      else:\n",
        "        month_as_string = str_MonthDay[:2]\n",
        "      date_as_string = str_MonthDay[len(month_as_string):]\n",
        "      day_month = date_as_string + \"-\" + month_as_string\n",
        "      return day_month\n",
        "  data['id$DayMonth'] = data['id$MonthDay'].apply(convert_day_month)\n",
        "  data['DayMonthYear'] = data[['id$DayMonth', 'id$Year']].astype(str).apply('-'.join, 1)#remove 'id$' due to error at query() statement\n",
        "  data['YearMonthDay'] = pd.to_datetime(data['DayMonthYear'], format=\"%d-%m-%Y\")#change position of day, month, year to YearMonthDay due to to_datetime\n",
        "  # print(data.columns.to_list())\n",
        "  return data\n",
        "#improvement: create new features( win_per_count_horse, win_per_count_kisyu)\n",
        "def get_new_features(data):\n",
        "  data['win_per_count_horse'] = 0.\n",
        "  data['win_per_count_kisyu'] = 0.\n",
        "  # print(data.columns.to_list())\n",
        "  list_dates = (list(data['YearMonthDay'].astype('str'))) # list of race dates.\n",
        "  indx = 0#indx of current row/ point\n",
        "  for race_date in list_dates:\n",
        "    kettoNum = list(data['KettoNum'])[indx]\n",
        "    kisyuCode = list(data['KisyuCode'])[indx]\n",
        "\n",
        "    df_match_before_horse = data.query(\"KettoNum==\" + '\"' + str(kettoNum) + '\"' + \" and YearMonthDay<\" + '\"' + race_date + '\"')#giu race_date o string type\n",
        "    df_match_before_kisyu = data.query(\"KisyuCode==\" + '\"' + str(kisyuCode) + '\"' + \" and YearMonthDay<\" + '\"' + race_date + '\"')\n",
        "\n",
        "    total_before_horse = df_match_before_horse['KettoNum'].count()\n",
        "    total_before_kisyu = df_match_before_kisyu['KisyuCode'].count()\n",
        "    total_win_before_horse = df_match_before_horse.query(\"KakuteiJyuni in [1,2,3]\")['KettoNum'].count()\n",
        "    total_win_before_kisyu = df_match_before_kisyu.query(\"KakuteiJyuni in [1,2,3]\")['KisyuCode'].count()\n",
        "    # print(total_before_horse, total_before_kisyu, total_win_before_horse, total_win_before_kisyu)\n",
        "    data['win_per_count_horse'][indx] = total_win_before_horse/total_before_horse if total_before_horse>0. else 0.#0 khi la tran dau tien\n",
        "    data['win_per_count_kisyu'][indx] = total_win_before_kisyu/total_before_kisyu if total_before_kisyu>0. else 0.#0 khi la tran dau tien\n",
        "    # print(data['win_per_count_horse'][indx], data['win_per_count_kisyu'][indx])\n",
        "    indx+=1\n",
        "  return data\n",
        "\n",
        "data = get_data_from_feature_sel_merg(RA, SE, UM_all, CH, KS, True)\n",
        "data_date = add_new_date_for_new_features(data)\n",
        "data = get_new_features(data_date)\n",
        "train_data, test_data, data = get_transformation_and_splitting_dropping( data, True, True)\n",
        "X_train, X_test, y_train, y_test = get_training_data_before_deployment(train_data, test_data)"
      ],
      "execution_count": 145,
      "outputs": [
        {
          "output_type": "stream",
          "text": [
            "/usr/local/lib/python3.6/dist-packages/ipykernel_launcher.py:39: SettingWithCopyWarning: \n",
            "A value is trying to be set on a copy of a slice from a DataFrame\n",
            "\n",
            "See the caveats in the documentation: https://pandas.pydata.org/pandas-docs/stable/user_guide/indexing.html#returning-a-view-versus-a-copy\n",
            "/usr/local/lib/python3.6/dist-packages/ipykernel_launcher.py:40: SettingWithCopyWarning: \n",
            "A value is trying to be set on a copy of a slice from a DataFrame\n",
            "\n",
            "See the caveats in the documentation: https://pandas.pydata.org/pandas-docs/stable/user_guide/indexing.html#returning-a-view-versus-a-copy\n",
            "/usr/local/lib/python3.6/dist-packages/pandas/core/frame.py:3997: SettingWithCopyWarning: \n",
            "A value is trying to be set on a copy of a slice from a DataFrame\n",
            "\n",
            "See the caveats in the documentation: https://pandas.pydata.org/pandas-docs/stable/user_guide/indexing.html#returning-a-view-versus-a-copy\n",
            "  errors=errors,\n"
          ],
          "name": "stderr"
        }
      ]
    },
    {
      "cell_type": "code",
      "metadata": {
        "id": "-fZbQFu7uoAi",
        "colab_type": "code",
        "colab": {
          "base_uri": "https://localhost:8080/",
          "height": 71
        },
        "outputId": "1bbd01ce-8800-40ae-94f2-8f73923cc538"
      },
      "source": [
        "#handle imbalanced data: over-sampling\n",
        "sm = SMOTE(random_state=0)\n",
        "X_sm, y_sm = sm.fit_sample(X_train, y_train)\n",
        "X_sm = pd.DataFrame(X_sm, columns=list(X_train))#dataframe, columns\n",
        "X_sm = X_sm.astype(X_train.dtypes)#copy dtypes"
      ],
      "execution_count": 156,
      "outputs": [
        {
          "output_type": "stream",
          "text": [
            "/usr/local/lib/python3.6/dist-packages/sklearn/utils/deprecation.py:87: FutureWarning: Function safe_indexing is deprecated; safe_indexing is deprecated in version 0.22 and will be removed in version 0.24.\n",
            "  warnings.warn(msg, category=FutureWarning)\n"
          ],
          "name": "stderr"
        }
      ]
    },
    {
      "cell_type": "code",
      "metadata": {
        "id": "sv4nOHB-Byfo",
        "colab_type": "code",
        "colab": {
          "base_uri": "https://localhost:8080/",
          "height": 71
        },
        "outputId": "96091b7d-b09a-4e89-d45d-f98bf59e37b3"
      },
      "source": [
        "#improvement: tuning params\n",
        "from sklearn.model_selection import GridSearchCV\n",
        "from scipy.stats import randint as sp_randint\n",
        "from scipy.stats import uniform as sp_uniform\n",
        "# Create parameters to search\n",
        "gridParams = {\n",
        "    'learning_rate': [0.005],\n",
        "    'n_estimators': [40],\n",
        "    'num_leaves': [6,8,12,16],\n",
        "    'boosting_type' : ['gbdt'],\n",
        "    'objective' : ['binary'],\n",
        "    'random_state' : [501], # Updated from 'seed'\n",
        "    'colsample_bytree' : [0.65, 0.66],\n",
        "    'subsample' : [0.7,0.75],\n",
        "    'reg_alpha' : [1,1.2],\n",
        "    'reg_lambda' : [1,1.2,1.4],\n",
        "    }\n",
        "#n_estimators is set to a \"large value\". The actual number of trees build will depend on early stopping and (5000) define only the absolute maximum\n",
        "clf = lgb.LGBMClassifier(max_depth=-1, random_state=314, silent=True, metric='None', n_jobs=4, n_estimators=50)\n",
        "# Create the grid\n",
        "grid = GridSearchCV(clf, gridParams,\n",
        "                    verbose=0,\n",
        "                    cv=4,\n",
        "                    n_jobs=2)\n",
        "# Run the grid\n",
        "grid.fit(X_sm, y_sm)\n",
        "\n",
        "# Print the best parameters found\n",
        "print(grid.best_params_)\n",
        "print(grid.best_score_)"
      ],
      "execution_count": 185,
      "outputs": [
        {
          "output_type": "stream",
          "text": [
            "{'boosting_type': 'gbdt', 'colsample_bytree': 0.65, 'learning_rate': 0.005, 'n_estimators': 40, 'num_leaves': 16, 'objective': 'binary', 'random_state': 501, 'reg_alpha': 1, 'reg_lambda': 1.4, 'subsample': 0.7}\n",
            "0.7546642421765936\n"
          ],
          "name": "stdout"
        }
      ]
    },
    {
      "cell_type": "code",
      "metadata": {
        "id": "P-gb5VhO8N9S",
        "colab_type": "code",
        "colab": {}
      },
      "source": [
        "start = time()\n",
        "\n",
        "d_train = lgb.Dataset(X_sm, label = y_sm)\n",
        "params = {}\n",
        "params['learning_rate'] = 0.005\n",
        "params['boosting_type'] = 'gbdt'\n",
        "params['colsample_bytree'] = 0.65\n",
        "params['n_estimators'] = 40\n",
        "params['random_state'] = 501\n",
        "params['reg_lambda'] = 1.4\n",
        "params['subsample'] = 0.7\n",
        "params['reg_alpha'] = 1\n",
        "params['objective'] = 'binary'\n",
        "params['metric'] = 'binary_logloss'\n",
        "params['sub_feature'] = 0.5\n",
        "params['num_leaves'] = 16\n",
        "params['min_data'] = 500\n",
        "params['max_depth'] = 100\n",
        "clf_sm = lgb.train(params, d_train, 100)\n",
        "\n",
        "end = time()\n",
        "running_time = end - start\n",
        "print('time cost: %.5f sec' %running_time)\n",
        "#Prediction\n",
        "y_pred = get_binary_output(clf_sm, X_test, False)\n",
        "print(classification_report(y_test, y_pred))\n",
        "#cm, plot\n",
        "labels = ['lose', 'win']\n",
        "cm = confusion_matrix(y_test, y_pred)\n",
        "print(cm)\n",
        "fig = plt.figure()\n",
        "ax = fig.add_subplot(111)\n",
        "cax = ax.matshow(cm)\n",
        "plt.title('Confusion matrix')\n",
        "fig.colorbar(cax)\n",
        "ax.set_xticklabels([''] + labels)\n",
        "ax.set_yticklabels([''] + labels)\n",
        "plt.xlabel('Predicted')\n",
        "plt.ylabel('True')\n",
        "# plot model’s feature importances (original data)\n",
        "lgb.plot_importance(clf_sm, max_num_features=10)"
      ],
      "execution_count": null,
      "outputs": []
    },
    {
      "cell_type": "markdown",
      "metadata": {
        "id": "fd94nA2hO4gI",
        "colab_type": "text"
      },
      "source": [
        "Save and load model"
      ]
    },
    {
      "cell_type": "code",
      "metadata": {
        "id": "o905wxcTC3UT",
        "colab_type": "code",
        "colab": {
          "base_uri": "https://localhost:8080/",
          "height": 34
        },
        "outputId": "328c8f9b-118f-4803-8a01-a6b614fb3b13"
      },
      "source": [
        "#save model: \n",
        "import joblib\n",
        "# save model\n",
        "joblib.dump(clf_sm, 'clf_sm_nnf.pkl')\n",
        "# load model\n",
        "# clf_sm = joblib.load('clf_sm_nnf.pkl')"
      ],
      "execution_count": 187,
      "outputs": [
        {
          "output_type": "execute_result",
          "data": {
            "text/plain": [
              "['clf_sm_nnf.pkl']"
            ]
          },
          "metadata": {
            "tags": []
          },
          "execution_count": 187
        }
      ]
    },
    {
      "cell_type": "markdown",
      "metadata": {
        "id": "j12QTUz7O7gU",
        "colab_type": "text"
      },
      "source": [
        "V. RESTful API Application."
      ]
    },
    {
      "cell_type": "markdown",
      "metadata": {
        "id": "mU0jSA5OPHcT",
        "colab_type": "text"
      },
      "source": [
        "*Lưu ý: Điều chỉnh đường dẫn phù hợp để chương trình có thể trỏ đúng thư mục như templates giúp hỗ trợ render UI cho ứng dụng."
      ]
    },
    {
      "cell_type": "code",
      "metadata": {
        "id": "xQZU6vCDBNZK",
        "colab_type": "code",
        "colab": {}
      },
      "source": [
        "#install for flask-ngrok for API\n",
        "!pip install flask-ngrok"
      ],
      "execution_count": null,
      "outputs": []
    },
    {
      "cell_type": "code",
      "metadata": {
        "id": "6T9mu0FzA8A7",
        "colab_type": "code",
        "colab": {}
      },
      "source": [
        "from flask_ngrok import run_with_ngrok\n",
        "import io, os\n",
        "from flask import Flask, request, jsonify, render_template, make_response, send_file\n",
        "from werkzeug.utils import secure_filename\n",
        "import csv\n",
        "import json\n",
        "app = Flask(__name__)\n",
        "run_with_ngrok(app)   #starts ngrok when the app is run\n",
        "@app.route(\"/\")\n",
        "def home():\n",
        "  return render_template('upload.html')\n",
        "  '''\n",
        "  For rendering results on HTML GUI\n",
        "  '''\n",
        "@app.route('/uploader', methods = ['GET', 'POST'])\n",
        "def upload_file():\n",
        "  file_content = ''\n",
        "  if request.method == 'POST':\n",
        "      file = request.files['file']\n",
        "      filename = secure_filename(file.filename) \n",
        "      file.save(filename)#save to colab's directory\n",
        "      unzipFile(filename)\n",
        "      #load data\n",
        "      RA = pd.read_pickle('new_race_data/RA2.pickle').reset_index(drop=True)#Race details\n",
        "      SE = pd.read_pickle('new_race_data/SE2.pickle').reset_index(drop=True)#Horse race information\n",
        "      UM_all = pd.read_pickle('new_race_data/UM.pickle').reset_index(drop=True)#thông tin con ngựa\n",
        "      CH = pd.read_pickle('new_race_data/CH.pickle').reset_index(drop=True)#CHOKYO, trainer\n",
        "      KS = pd.read_pickle('new_race_data/KS.pickle').reset_index(drop=True)#KISYU, người cưỡi ngựa\n",
        "      #handle data, no rows dropped\n",
        "      data = get_data_from_feature_sel_merg(RA, SE, UM_all, CH, KS, True)\n",
        "      data_date = add_new_date_for_new_features(data)#reserve date\n",
        "      data = get_new_features(data_date)\n",
        "      train_data, test_data, data = get_transformation_and_splitting_dropping( data, False, True)#no use train_data, test_data. use new df data\n",
        "      X_pred = data.drop(columns='KakuteiJyuni')\n",
        "      #Prediction\n",
        "      y_pred = get_binary_output(clf_sm, X_pred, False)#False: use threshold with oversampling model\n",
        "      data_date.head(20)\n",
        "      f = open('output.csv', 'w')\n",
        "      with f:\n",
        "          fnames = ['DayMonthYear', 'KettoNum','Umaban','JyoCD','Kaiji','Nichiji','RaceNum','KettoNum','result']\n",
        "          writer = csv.DictWriter(f, fieldnames=fnames)    \n",
        "          writer.writeheader()\n",
        "          for i in range(len(y_pred)):\n",
        "            writer.writerow({'DayMonthYear': data_date['DayMonthYear'][i], 'KettoNum': data_date['KettoNum'][i], 'Umaban': data_date['Umaban'][i], 'JyoCD': data_date['id$JyoCD'][i], 'Kaiji':  data_date['id$Kaiji'][i], 'Nichiji':  data_date['id$Nichiji'][i], 'RaceNum':  data_date['id$RaceNum'][i], 'result': y_pred[i]})\n",
        "  return send_file(\"output.csv\", as_attachment=True)\n",
        "def unzipFile(filename):\n",
        "  %%time\n",
        "  !unzip -q \"{filename}\"\n",
        "  !rm \"{filename}\"\n",
        "\n",
        "app.run()"
      ],
      "execution_count": null,
      "outputs": []
    }
  ]
}